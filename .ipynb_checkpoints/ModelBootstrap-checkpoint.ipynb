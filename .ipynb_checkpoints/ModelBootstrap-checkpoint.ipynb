{
 "cells": [
  {
   "cell_type": "code",
   "execution_count": 345,
   "id": "auburn-intake",
   "metadata": {},
   "outputs": [],
   "source": [
    "from sklearn.calibration import CalibratedClassifierCV\n",
    "import numpy as np\n",
    "import matplotlib.pyplot as plt\n",
    "from tqdm import trange, tqdm\n",
    "from sklearn.base import BaseEstimator, ClassifierMixin\n",
    "import pandas as pd\n",
    "\n",
    "\n",
    "class ModelBootstrap(BaseEstimator, ClassifierMixin):\n",
    "    \n",
    "    def __init__(self, estimator, n_boot = 100):\n",
    "        \"\"\"\n",
    "        A class to calibrate binary classifiers and calculate confidence intervals for the predictions.\n",
    "\n",
    "        estimator:    an estimator with .fit and .predict methods, such as sk-learn classifiers.\n",
    "\n",
    "        n_boot (int): Number of bootstrap resamples used to estimate the confidence intervals. default: 100\n",
    "\n",
    "        \"\"\"\n",
    "        self.estimator = estimator\n",
    "        \n",
    "        if type(n_boot) != int or n_boot < 0:\n",
    "            raise Warning('n_boot must be an integer larger than 0')\n",
    "        self.n_boot = n_boot\n",
    "        \n",
    "        self.b_estimators = []\n",
    "        \n",
    "    def fit(self, X, y, calibration_cv = None, boot_size = None):\n",
    "        \"\"\"\n",
    "        A method to fit a calibrated estimator and n_boot bootstrapped estimators.\n",
    "        \n",
    "        X: Numpy array or Pandas dataframe of shape (samples, features).\n",
    "        \n",
    "        y: Numpy array of shape (samples,). Binary classifications.\n",
    "        \n",
    "        calibration_cv: int, cross-validation generator for sk-learn CalibratedClassifierCV.\n",
    "                        see: https://scikit-learn.org/stable/modules/generated/sklearn.calibration.CalibratedClassifierCV.html\n",
    "        \n",
    "        boot_size:    None or int. if None, each resampled dataset will be the same size as the original dataset. \n",
    "                      Otherwise, each resampled dataset will include boot_size samples. default: None\n",
    "        \"\"\"\n",
    "        \n",
    "        if type(X) == pd.core.frame.DataFrame:\n",
    "            X = X.to_numpy()\n",
    "            \n",
    "        self.calibration_cv = calibration_cv\n",
    "        \n",
    "        # Main estimator:\n",
    "        self.calibrated_estimator = CalibratedClassifierCV(base_estimator = self.estimator, cv = self.calibration_cv)\n",
    "        self.calibrated_estimator.fit(X, y)\n",
    "        \n",
    "        # Bootstrap estimators:\n",
    "        self.boot_size = boot_size\n",
    "        if self.boot_size == None:\n",
    "            self.boot_size = X.shape[0]\n",
    "        \n",
    "        self.b_estimators = []\n",
    "\n",
    "        for j in trange(self.n_boot):\n",
    "            b_idx = np.random.choice(X.shape[0], size = self.boot_size)\n",
    "            X_resampled = X[b_idx]\n",
    "            y_resampled = y[b_idx]\n",
    "            \n",
    "            partial_estimator = CalibratedClassifierCV(base_estimator = self.estimator, cv = self.calibration_cv)\n",
    "            partial_estimator.fit(X_resampled, y_resampled)\n",
    "            self.b_estimators.append(partial_estimator)\n",
    "            \n",
    "    def predict(self, X, ci = 95):\n",
    "        \"\"\"\n",
    "        A method to predict a fitted bootstrap model.\n",
    "        \n",
    "        X:  Numpy array or Pandas dataframe of shape (samples, features).\n",
    "        \n",
    "        ci: Size of the confidence interval that will be calculated.\n",
    "            integer between 0 and 100, exclusive. deafult: 95.\n",
    "        \"\"\"\n",
    "\n",
    "        if type(X) == pd.core.frame.DataFrame:\n",
    "            X = X.to_numpy()  \n",
    "        \n",
    "        # verify the class if fitted:\n",
    "        if not self.b_estimators:\n",
    "            raise Warning('Use fit method first')\n",
    "        \n",
    "        if type(ci) != int:\n",
    "            raise Warning('ci must be an integer between 0 and 100 exclusive')\n",
    "        elif ci <= 0 or ci >= 100:\n",
    "            raise Warning('ci must be an integer between 0 and 100 exclusive') \n",
    "        ci = (1 - ci / 100) / 2\n",
    "        \n",
    "        preds = np.zeros((self.n_boot, X.shape[0]))\n",
    "        y_pred = self.calibrated_estimator.predict_proba(X)[:,1]\n",
    "        \n",
    "        for j, est in enumerate(tqdm(self.b_estimators)):\n",
    "            b_y_pred = est.predict_proba(X)[:,1]\n",
    "            preds[j] = b_y_pred\n",
    "        \n",
    "        lower_bounds = np.quantile(preds, ci, axis = 0)\n",
    "        upper_bounds = np.quantile(preds, 1 - ci, axis = 0)\n",
    "        \n",
    "        return(y_pred, lower_bounds, upper_bounds)\n",
    "    \n",
    "        \n",
    "    def plot_predict(self, X, y_true = None, ci = 95, threshold = 0.5, n_samples = 'all'):\n",
    "        \"\"\"    \n",
    "        X:   Numpy array or Pandas dataframe of shape (samples, features).\n",
    "        \n",
    "        y (optional):   Numpy array of shape (samples,). Binary predictions of classifier.\n",
    "                        If given, plot will descrimnate samples by the true value. Otherwise, y_pred will be calculated,\n",
    "                        and samples will be marked according to prediction.\n",
    "                                                \n",
    "        ci: int between 0 and 100 (exclusive). Confidence intervals to be calculated, in case X is given. default: 95.\n",
    "        \n",
    "        threshold: float between 0.0 and 1.0. Threshold for classifying predictions. default: 0.5.\n",
    "        \n",
    "        n_samples:  'all' or an integer <= number of samples. If 'all', all samples will be plotted. Otherwise, n_samples \n",
    "                    randomly selected samples will be plotted.\n",
    "                    \n",
    "        ---\n",
    "        if y_true is not provided, given, this method will return the prediction outputs (y_pred, lower_bound, upper_bound). \n",
    "        Otherwise will return None.\n",
    "        \n",
    "        y_pred: Numpy array of shape (samples,). Binary predictions of classifier.\n",
    "        \n",
    "        lower_bound: Numpy array of shape (samples, ). Lower-bound values of y.\n",
    "        \n",
    "        upper_bound: Numpy array of shape (samples, ). Upper-bound values of y.\n",
    "        \"\"\"\n",
    "\n",
    "        if type(X) == pd.core.frame.DataFrame:\n",
    "            X = X.to_numpy()  \n",
    "\n",
    "        r = False\n",
    "        y_true = np.array(y_true)\n",
    "        if not y_true.any():\n",
    "            y_true = np.zeros(X.shape[0])\n",
    "            r = True\n",
    "\n",
    "        # verify the class if fitted:\n",
    "        if not self.b_estimators:\n",
    "            raise Warning('Use fit method first')\n",
    "\n",
    "        y_pred, lower_bound, upper_bound = self.predict(X, ci = ci)\n",
    "        y_binary = (y_pred > threshold).astype(int)\n",
    "        results = np.vstack([y_pred, lower_bound, upper_bound, y_true, y_binary]).T\n",
    "\n",
    "        # unless n_samples = 'all', create a sub-sample for plotting with size = n_samples\n",
    "        if n_samples != 'all':\n",
    "            if type(n_samples) != int or n_samples > X.shape[0]:\n",
    "                raise Warning(\"n_samples should be 'all' or an integer <= number of samples\")\n",
    "            else:\n",
    "                idx = np.random.choice(X.shape[0], size = n_samples)\n",
    "        else:\n",
    "            idx = np.arange(X.shape[0])\n",
    "\n",
    "        # mask n_samples samples for plotting.\n",
    "        results = results[idx]\n",
    "        order = np.argsort(results[:,0])\n",
    "        results = results[order]\n",
    "\n",
    "        # plot predictions with errorbars\n",
    "       \n",
    "        results = pd.DataFrame(results, columns = ['y_pred', 'lower_bound', 'upper_bound', 'y_true', 'y_binary'])\n",
    "        results['error_lb'] = results['y_pred'] - results['lower_bound']\n",
    "        results['error_ub'] = results['upper_bound'] - results['y_pred']\n",
    "        \n",
    "        if r:\n",
    "            results['y_true'] = results['y_binary']\n",
    "            \n",
    "        fig, ax = plt.subplots(figsize = (15,5))\n",
    "        plt.grid()\n",
    "        for j in results.y_true.unique():\n",
    "            class_ = np.where(results['y_true'] == j)[0]\n",
    "\n",
    "            ax.errorbar(class_, results.loc[class_]['y_pred'], \n",
    "                        yerr = [results.loc[class_]['error_lb'].values, results.loc[class_]['error_ub'].values],\n",
    "                        fmt = 'o',\n",
    "                        capsize=3,\n",
    "                        alpha = 0.4\n",
    "                       )\n",
    "            ax.scatter(class_, results.loc[class_]['y_pred'], label = j)\n",
    "        \n",
    "        ax.hlines(threshold, 0, idx.shape[0], color = 'black', ls = '--', label = 'Threshold') \n",
    "        ax.legend(fontsize = 14) ; ax.set_ylim(-0.05,1.05) ; ax.set_ylabel('prob') ; ax.set_xlabel('sample') ; \n",
    "        if r:\n",
    "            ax.legend().set_title('Predicted label:')\n",
    "        else:\n",
    "            ax.legend().set_title('True label:')\n",
    "        \n",
    "        if r:\n",
    "            return(y_pred, lower_bound, upper_bound) \n"
   ]
  },
  {
   "cell_type": "markdown",
   "id": "decent-demonstration",
   "metadata": {},
   "source": [
    "# Example\n",
    "### Titanic dataset"
   ]
  },
  {
   "cell_type": "code",
   "execution_count": 346,
   "id": "discrete-hardwood",
   "metadata": {},
   "outputs": [],
   "source": [
    "from sklearn.model_selection import train_test_split\n",
    "from sklearn.linear_model import LogisticRegression"
   ]
  },
  {
   "cell_type": "code",
   "execution_count": 347,
   "id": "powered-headline",
   "metadata": {},
   "outputs": [],
   "source": [
    "df_tit = pd.read_csv(\"titanic_train.csv\")\n",
    "df_tit[\"Sex\"] = df_tit[\"Sex\"].replace([\"male\", \"female\"], [0, 1])\n",
    "df_tit[\"Embarked\"] = df_tit[\"Embarked\"].replace([\"S\", \"C\", \"Q\"], [0, 1, 2])\n",
    "\n",
    "df_tit_min = df_tit[[\"PassengerId\", \"Pclass\", \"Sex\", \"Age\", \"SibSp\", \"Parch\", \"Embarked\", \"Survived\"]].dropna()\n",
    "\n",
    "X_train, X_test, y_train, y_test = train_test_split(df_tit_min.drop([\"Survived\"], axis=1), df_tit_min[\"Survived\"].to_numpy(), \n",
    "                                                    test_size=0.33, random_state=42)"
   ]
  },
  {
   "cell_type": "code",
   "execution_count": 348,
   "id": "realistic-castle",
   "metadata": {},
   "outputs": [
    {
     "name": "stderr",
     "output_type": "stream",
     "text": [
      "100%|██████████| 100/100 [01:02<00:00,  1.59it/s]\n"
     ]
    }
   ],
   "source": [
    "model_lr = LogisticRegression(random_state = 0, max_iter = 500)\n",
    "mb_lr = ModelBootstrap(model_lr, n_boot = 100)\n",
    "\n",
    "mb_lr.fit(X_train, y_train)"
   ]
  },
  {
   "cell_type": "markdown",
   "id": "atmospheric-colorado",
   "metadata": {},
   "source": [
    "To calculate test's prediction with 95% CI, use the `predict` method"
   ]
  },
  {
   "cell_type": "code",
   "execution_count": 349,
   "id": "finished-survival",
   "metadata": {},
   "outputs": [
    {
     "name": "stderr",
     "output_type": "stream",
     "text": [
      "100%|██████████| 100/100 [00:00<00:00, 388.95it/s]\n"
     ]
    }
   ],
   "source": [
    "y, lb, ub = mb_lr.predict(X_test, ci = 95)"
   ]
  },
  {
   "cell_type": "markdown",
   "id": "quantitative-flooring",
   "metadata": {},
   "source": [
    "Altenatively, `plot_predict` will return the same values (predictions + 95% CI), but will also plot the CI."
   ]
  },
  {
   "cell_type": "code",
   "execution_count": 350,
   "id": "coupled-jersey",
   "metadata": {},
   "outputs": [
    {
     "name": "stderr",
     "output_type": "stream",
     "text": [
      "100%|██████████| 100/100 [00:00<00:00, 450.96it/s]\n"
     ]
    },
    {
     "data": {
      "image/png": "[encoded data removed]",
      "text/plain": [
       "<Figure size 1080x360 with 1 Axes>"
      ]
     },
     "metadata": {
      "needs_background": "light"
     },
     "output_type": "display_data"
    }
   ],
   "source": [
    "mb_lr.plot_predict(X_test, y_test, ci = 95, threshold = 0.6, n_samples = 80)"
   ]
  },
  {
   "cell_type": "code",
   "execution_count": null,
   "id": "crude-partition",
   "metadata": {},
   "outputs": [],
   "source": []
  },
  {
   "cell_type": "code",
   "execution_count": null,
   "id": "advisory-going",
   "metadata": {},
   "outputs": [],
   "source": []
  }
 ],
 "metadata": {
  "kernelspec": {
   "display_name": "Python 3",
   "language": "python",
   "name": "python3"
  },
  "language_info": {
   "codemirror_mode": {
    "name": "ipython",
    "version": 3
   },
   "file_extension": ".py",
   "mimetype": "text/x-python",
   "name": "python",
   "nbconvert_exporter": "python",
   "pygments_lexer": "ipython3",
   "version": "3.8.5"
  }
 },
 "nbformat": 4,
 "nbformat_minor": 5
}
